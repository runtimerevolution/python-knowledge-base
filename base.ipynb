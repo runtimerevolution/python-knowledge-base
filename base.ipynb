{
 "cells": [
  {
   "cell_type": "markdown",
   "source": [
    "## Initial approach"
   ],
   "metadata": {
    "collapsed": false,
    "pycharm": {
     "name": "#%% md\n"
    }
   }
  },
  {
   "cell_type": "code",
   "execution_count": 7,
   "outputs": [
    {
     "name": "stdout",
     "output_type": "stream",
     "text": [
      "None\n"
     ]
    }
   ],
   "source": [
    "from unittest.mock import MagicMock\n",
    "\n",
    "class ProductionClass:\n",
    "    ...\n",
    "\n",
    "thing = ProductionClass()\n",
    "thing.method = MagicMock(return_value=3)\n",
    "thing.method(3, 4, 5, key='value')\n",
    "\n",
    "thing.method.assert_called_with(3, 4, 5, key='value')"
   ],
   "metadata": {
    "collapsed": false,
    "pycharm": {
     "name": "#%%\n"
    }
   }
  },
  {
   "cell_type": "code",
   "execution_count": 51,
   "outputs": [
    {
     "name": "stdout",
     "output_type": "stream",
     "text": [
      "\n",
      "Sample Report\n",
      "\n",
      "Very Important Report\n",
      "\n",
      "Sample description\n",
      "\n",
      "   col1  col2\n",
      "0     1     3\n",
      "1     2     4\n"
     ]
    }
   ],
   "source": [
    "from jinja2.nativetypes import NativeEnvironment\n",
    "import pandas as pd\n",
    "\n",
    "TEMPLATE = \"\"\"\n",
    "Sample Report\n",
    "\n",
    "{{title}}\n",
    "\n",
    "{{description}}\n",
    "\n",
    "{{data}}\n",
    "\"\"\"\n",
    "\n",
    "title = \"Very Important Report\"\n",
    "description = \"Sample description\"\n",
    "df = pd.DataFrame({'col1': [1, 2], 'col2': [3, 4]})\n",
    "\n",
    "env = NativeEnvironment()\n",
    "template = env.from_string(TEMPLATE)\n",
    "report = template.render(title=title, description=description, data=df.to_string())\n",
    "print(report)\n"
   ],
   "metadata": {
    "collapsed": false,
    "pycharm": {
     "name": "#%%\n"
    }
   }
  },
  {
   "cell_type": "markdown",
   "source": [
    "## Let's use a function"
   ],
   "metadata": {
    "collapsed": false,
    "pycharm": {
     "name": "#%% md\n"
    }
   }
  },
  {
   "cell_type": "code",
   "execution_count": 20,
   "outputs": [
    {
     "name": "stdout",
     "output_type": "stream",
     "text": [
      "('\\n'\n",
      " 'Sample Report\\n'\n",
      " '\\n'\n",
      " 'Very Important Report\\n'\n",
      " '\\n'\n",
      " 'Sample description\\n'\n",
      " '\\n'\n",
      " '   col1  col2\\n'\n",
      " '0     1     3\\n'\n",
      " '1     2     4')\n"
     ]
    }
   ],
   "source": [
    "from jinja2.nativetypes import NativeEnvironment\n",
    "import pandas as pd\n",
    "\n",
    "template_str = \"\"\"\n",
    "Sample Report\n",
    "\n",
    "{{title}}\n",
    "\n",
    "{{description}}\n",
    "\n",
    "{{data}}\n",
    "\"\"\"\n",
    "\n",
    "title = \"Very Important Report\"\n",
    "description = \"Sample description\"\n",
    "df = pd.DataFrame({'col1': [1, 2], 'col2': [3, 4]})\n",
    "\n",
    "def generate_report(title, description, data):\n",
    "    env = NativeEnvironment()\n",
    "    template = env.from_string(template_str)\n",
    "    return template.render(title=title, description=description, data=data)\n",
    "\n",
    "from pprint import pprint\n",
    "pprint(generate_report(title, description, df.to_string()))"
   ],
   "metadata": {
    "collapsed": false,
    "pycharm": {
     "name": "#%%\n"
    }
   }
  },
  {
   "cell_type": "code",
   "execution_count": 21,
   "outputs": [
    {
     "name": "stdout",
     "output_type": "stream",
     "text": [
      "\n",
      "Sample Report\n",
      "\n",
      "sample title\n",
      "\n",
      "sample description\n",
      "\n",
      "42\n"
     ]
    },
    {
     "data": {
      "text/plain": "True"
     },
     "execution_count": 21,
     "metadata": {},
     "output_type": "execute_result"
    }
   ],
   "source": [
    "title = \"sample title\"\n",
    "description = \"sample description\"\n",
    "data = \"42\"\n",
    "\n",
    "report = generate_report(title, description, data)\n",
    "print(report)\n",
    "description in report"
   ],
   "metadata": {
    "collapsed": false,
    "pycharm": {
     "name": "#%%\n"
    }
   }
  },
  {
   "cell_type": "code",
   "execution_count": 25,
   "outputs": [
    {
     "name": "stderr",
     "output_type": "stream",
     "text": [
      "test_failure (__main__.GenerateReport) ... ok\n",
      "test_success (__main__.GenerateReport) ... ok\n",
      "\n",
      "----------------------------------------------------------------------\n",
      "Ran 2 tests in 0.013s\n",
      "\n",
      "OK\n"
     ]
    },
    {
     "data": {
      "text/plain": "<unittest.main.TestProgram at 0x128da3100>"
     },
     "execution_count": 25,
     "metadata": {},
     "output_type": "execute_result"
    }
   ],
   "source": [
    "import unittest\n",
    "from unittest import TestCase\n",
    "\n",
    "class GenerateReport(TestCase):\n",
    "    def test_success(self):\n",
    "        title = \"sample title\"\n",
    "        description = \"sample description\"\n",
    "        data = \"42\"\n",
    "\n",
    "        report = generate_report(title, description, data)\n",
    "        self.assertTrue(title in report)\n",
    "        self.assertTrue(description in report)\n",
    "        self.assertTrue(data in report)\n",
    "\n",
    "    def test_failure(self):\n",
    "        generate_report(None, None, None)\n",
    "\n",
    "\n",
    "\n",
    "unittest.main(argv=[''], verbosity=2, exit=False)"
   ],
   "metadata": {
    "collapsed": false,
    "pycharm": {
     "name": "#%%\n"
    }
   }
  },
  {
   "cell_type": "code",
   "execution_count": 6,
   "outputs": [
    {
     "name": "stderr",
     "output_type": "stream",
     "text": [
      "test_isupper (__main__.TestStringMethods) ... ok\n",
      "test_split (__main__.TestStringMethods) ... ok\n",
      "test_upper (__main__.TestStringMethods) ... ok\n",
      "\n",
      "----------------------------------------------------------------------\n",
      "Ran 3 tests in 0.004s\n",
      "\n",
      "OK\n"
     ]
    },
    {
     "data": {
      "text/plain": "<unittest.main.TestProgram at 0x10d706080>"
     },
     "execution_count": 6,
     "metadata": {},
     "output_type": "execute_result"
    }
   ],
   "source": [
    "import unittest\n",
    "\n",
    "class TestStringMethods(unittest.TestCase):  # A testcase is created by subclassing unittest.TestCase\n",
    "\n",
    "    # The three individual tests are defined with methods whose names start with the\n",
    "    # letters test. This naming convention informs the test runner about which methods\n",
    "    # represent tests.\n",
    "    def test_upper(self):\n",
    "        self.assertEqual('foo'.upper(), 'FOO')\n",
    "\n",
    "    def test_isupper(self):\n",
    "        self.assertTrue('FOO'.isupper())\n",
    "        self.assertFalse('Foo'.isupper())\n",
    "\n",
    "    def test_split(self):\n",
    "        s = 'hello world'\n",
    "        self.assertEqual(s.split(), ['hello', 'world'])\n",
    "        # check that s.split fails when the separator is not a string\n",
    "        with self.assertRaises(TypeError):\n",
    "            s.split(2)\n",
    "\n",
    "unittest.main(argv=[''], verbosity=2, exit=False)"
   ],
   "metadata": {
    "collapsed": false,
    "pycharm": {
     "name": "#%%\n"
    }
   }
  },
  {
   "cell_type": "code",
   "execution_count": 6,
   "outputs": [
    {
     "data": {
      "text/plain": "True"
     },
     "execution_count": 6,
     "metadata": {},
     "output_type": "execute_result"
    }
   ],
   "source": [
    "s = 'hello world'\n",
    "s.split() == ['hello', 'world']"
   ],
   "metadata": {
    "collapsed": false,
    "pycharm": {
     "name": "#%%\n"
    }
   }
  },
  {
   "cell_type": "code",
   "execution_count": 4,
   "outputs": [
    {
     "name": "stdout",
     "output_type": "stream",
     "text": [
      "============================= test session starts ==============================\n",
      "platform darwin -- Python 3.10.2, pytest-7.1.3, pluggy-1.0.0 -- /Users/jmgomes/Library/Caches/pypoetry/virtualenvs/python-knowledge-base-0_fYsG-I-py3.10/bin/python\n",
      "cachedir: .pytest_cache\n",
      "rootdir: /Users/jmgomes/Projects/RuntimeRevolution/python-knowledge-base\n",
      "collecting ... collected 0 items\n",
      "\n",
      "============================ no tests ran in 0.01s =============================\n"
     ]
    },
    {
     "data": {
      "text/plain": "<ExitCode.NO_TESTS_COLLECTED: 5>"
     },
     "execution_count": 4,
     "metadata": {},
     "output_type": "execute_result"
    }
   ],
   "source": [
    "class TestStringMethodsWithPytest:\n",
    "\n",
    "    # The three individual tests are defined with methods whose names start with the\n",
    "    # letters test. This naming convention informs the test runner about which methods\n",
    "    # represent tests.\n",
    "    def test_upper(self):\n",
    "        assert 'foo'.upper()=='FOO'\n",
    "\n",
    "    def test_isupper(self):\n",
    "        assert 'FOO'.isupper() is True\n",
    "        assert 'Foo'.isupper() is False\n",
    "\n",
    "    def test_split(self):\n",
    "        s = 'hello world'\n",
    "        assert s.split() == ['hello', 'world']\n",
    "        # check that s.split fails when the separator is not a string\n",
    "        #with self.assertRaises(TypeError):\n",
    "        #    s.split(2)\n",
    "\n",
    "import pytest\n",
    "pytest.main([\"-x\", \".\", \"-vv\"])"
   ],
   "metadata": {
    "collapsed": false,
    "pycharm": {
     "name": "#%%\n"
    }
   }
  },
  {
   "cell_type": "code",
   "execution_count": 31,
   "outputs": [
    {
     "data": {
      "text/plain": "'Sample Report'"
     },
     "execution_count": 31,
     "metadata": {},
     "output_type": "execute_result"
    }
   ],
   "source": [
    "report = generate_report(None, None, None)\n",
    "report.replace('\\n', '').replace('None', '')"
   ],
   "metadata": {
    "collapsed": false,
    "pycharm": {
     "name": "#%%\n"
    }
   }
  },
  {
   "cell_type": "markdown",
   "source": [],
   "metadata": {
    "collapsed": false,
    "pycharm": {
     "name": "#%% md\n"
    }
   }
  },
  {
   "cell_type": "markdown",
   "source": [
    "## Validations"
   ],
   "metadata": {
    "collapsed": false,
    "pycharm": {
     "name": "#%% md\n"
    }
   }
  },
  {
   "cell_type": "code",
   "execution_count": 36,
   "outputs": [
    {
     "data": {
      "text/plain": "True"
     },
     "execution_count": 36,
     "metadata": {},
     "output_type": "execute_result"
    }
   ],
   "source": [
    "from jinja2.nativetypes import NativeEnvironment\n",
    "import pandas as pd\n",
    "\n",
    "TEMPLATE = \"\"\"\n",
    "Sample Report\n",
    "\n",
    "{{title}}\n",
    "\n",
    "{{description}}\n",
    "\n",
    "{{data}}\n",
    "\"\"\"\n",
    "\n",
    "title = \"Very Important Report\"\n",
    "description = \"Sample description\"\n",
    "df = pd.DataFrame({'col1': [1, 2], 'col2': [3, 4]})\n",
    "\n",
    "def generate_report(title, description, data):\n",
    "    if title is None or description is None or data is None:\n",
    "        return\n",
    "    env = NativeEnvironment()\n",
    "    template = env.from_string(TEMPLATE)\n",
    "    return template.render(title=title, description=description, data=data)\n",
    "\n",
    "\n",
    "generate_report(None, None, None) is None"
   ],
   "metadata": {
    "collapsed": false,
    "pycharm": {
     "name": "#%%\n"
    }
   }
  },
  {
   "cell_type": "code",
   "execution_count": 38,
   "outputs": [
    {
     "name": "stderr",
     "output_type": "stream",
     "text": [
      "test_failure_1_params (__main__.GenerateReport) ... ok\n",
      "test_failure_3_params (__main__.GenerateReport) ... ok\n",
      "test_success (__main__.GenerateReport) ... ok\n",
      "\n",
      "----------------------------------------------------------------------\n",
      "Ran 3 tests in 0.013s\n",
      "\n",
      "OK\n"
     ]
    },
    {
     "data": {
      "text/plain": "<unittest.main.TestProgram at 0x129743e20>"
     },
     "execution_count": 38,
     "metadata": {},
     "output_type": "execute_result"
    }
   ],
   "source": [
    "import unittest\n",
    "from unittest import TestCase\n",
    "\n",
    "class GenerateReport(TestCase):\n",
    "    def setUp(self):\n",
    "        self.title = \"sample title\"\n",
    "        self.description = \"sample description\"\n",
    "        self.data = \"42\"\n",
    "\n",
    "    def test_success(self):\n",
    "        report = generate_report(self.title, self.description, self.data)\n",
    "        self.assertTrue(self.title in report)\n",
    "        self.assertTrue(self.description in report)\n",
    "        self.assertTrue(self.data in report)\n",
    "\n",
    "    def test_failure_1_params(self):\n",
    "        self.assertIsNone(generate_report(self.title, None, self.data))\n",
    "\n",
    "    def test_failure_3_params(self):\n",
    "        self.assertIsNone(generate_report(None, None, None))\n",
    "\n",
    "\n",
    "\n",
    "unittest.main(argv=[''], verbosity=2, exit=False)"
   ],
   "metadata": {
    "collapsed": false,
    "pycharm": {
     "name": "#%%\n"
    }
   }
  },
  {
   "cell_type": "markdown",
   "source": [
    "## Set responsibilities"
   ],
   "metadata": {
    "collapsed": false,
    "pycharm": {
     "name": "#%% md\n"
    }
   }
  },
  {
   "cell_type": "code",
   "execution_count": 3,
   "outputs": [
    {
     "name": "stdout",
     "output_type": "stream",
     "text": [
      "\n",
      "Report\n",
      "\n",
      "Very Important Report\n",
      "\n",
      "Sample description\n",
      "\n",
      "   col1  col2\n",
      "0     1     3\n",
      "1     2     4\n"
     ]
    }
   ],
   "source": [
    "import pandas as pd\n",
    "from jinja2.nativetypes import NativeEnvironment\n",
    "from dataclasses import dataclass\n",
    "\n",
    "TEMPLATE = \"\"\"\n",
    "Report\n",
    "\n",
    "{{title}}\n",
    "\n",
    "{{description}}\n",
    "\n",
    "{{data}}\n",
    "\"\"\"\n",
    "\n",
    "title = \"Very Important Report\"\n",
    "description = \"Sample description\"\n",
    "df = pd.DataFrame({'col1': [1, 2], 'col2': [3, 4]})\n",
    "\n",
    "@dataclass\n",
    "class GenerateReport:\n",
    "    title: str\n",
    "    description: str\n",
    "    data: str\n",
    "\n",
    "    def __post_init__(self):\n",
    "        self._validate_input()\n",
    "        self._get_template()\n",
    "\n",
    "    def _validate_input(self):\n",
    "        if self.title is None or self.description is None or self.data is None:\n",
    "            raise Exception(\"Parameters are missing\")\n",
    "\n",
    "    def _get_template(self):\n",
    "        env = NativeEnvironment()\n",
    "        self.template = env.from_string(TEMPLATE)\n",
    "\n",
    "    def __call__(self, *args, **kwargs):\n",
    "        return self.template.render(title=self.title, description=self.description, data=self.data)\n",
    "\n",
    "generate_report = GenerateReport(title, description, df.to_string())\n",
    "print(generate_report())"
   ],
   "metadata": {
    "collapsed": false,
    "pycharm": {
     "name": "#%%\n"
    }
   }
  },
  {
   "cell_type": "code",
   "execution_count": 2,
   "outputs": [
    {
     "name": "stderr",
     "output_type": "stream",
     "text": [
      "test_failure_1_params (__main__.GenerateReportTest) ... ERROR\n",
      "test_failure_3_params (__main__.GenerateReportTest) ... ERROR\n",
      "test_success (__main__.GenerateReportTest) ... ERROR\n",
      "\n",
      "======================================================================\n",
      "ERROR: test_failure_1_params (__main__.GenerateReportTest)\n",
      "----------------------------------------------------------------------\n",
      "Traceback (most recent call last):\n",
      "  File \"/var/folders/k1/hrvz78210fl_2fl85sb86f600000gn/T/ipykernel_50354/2146599581.py\", line 17, in test_failure_1_params\n",
      "    report = GenerateReport(self.title, None, self.data)()\n",
      "NameError: name 'GenerateReport' is not defined\n",
      "\n",
      "======================================================================\n",
      "ERROR: test_failure_3_params (__main__.GenerateReportTest)\n",
      "----------------------------------------------------------------------\n",
      "Traceback (most recent call last):\n",
      "  File \"/var/folders/k1/hrvz78210fl_2fl85sb86f600000gn/T/ipykernel_50354/2146599581.py\", line 21, in test_failure_3_params\n",
      "    report = generate_report(None, None, None)()\n",
      "NameError: name 'generate_report' is not defined\n",
      "\n",
      "======================================================================\n",
      "ERROR: test_success (__main__.GenerateReportTest)\n",
      "----------------------------------------------------------------------\n",
      "Traceback (most recent call last):\n",
      "  File \"/var/folders/k1/hrvz78210fl_2fl85sb86f600000gn/T/ipykernel_50354/2146599581.py\", line 11, in test_success\n",
      "    report = GenerateReport(self.title, self.description, self.data)()\n",
      "NameError: name 'GenerateReport' is not defined\n",
      "\n",
      "----------------------------------------------------------------------\n",
      "Ran 3 tests in 0.006s\n",
      "\n",
      "FAILED (errors=3)\n"
     ]
    },
    {
     "data": {
      "text/plain": "<unittest.main.TestProgram at 0x1109c71c0>"
     },
     "execution_count": 2,
     "metadata": {},
     "output_type": "execute_result"
    }
   ],
   "source": [
    "import unittest\n",
    "from unittest import TestCase\n",
    "\n",
    "class GenerateReportTest(TestCase):\n",
    "    def setUp(self):\n",
    "        self.title = \"sample title\"\n",
    "        self.description = \"sample description\"\n",
    "        self.data = \"42\"\n",
    "\n",
    "    def test_success(self):\n",
    "        report = GenerateReport(self.title, self.description, self.data)()\n",
    "        self.assertTrue(self.title in report)\n",
    "        self.assertTrue(self.description in report)\n",
    "        self.assertTrue(self.data in report)\n",
    "\n",
    "    def test_failure_1_params(self):\n",
    "        report = GenerateReport(self.title, None, self.data)()\n",
    "        self.assertIsNone(report)\n",
    "\n",
    "    def test_failure_3_params(self):\n",
    "        report = generate_report(None, None, None)()\n",
    "        self.assertIsNone(report)\n",
    "\n",
    "\n",
    "\n",
    "unittest.main(argv=[''], verbosity=2, exit=False)"
   ],
   "metadata": {
    "collapsed": false,
    "pycharm": {
     "name": "#%%\n"
    }
   }
  },
  {
   "cell_type": "code",
   "execution_count": 7,
   "outputs": [
    {
     "name": "stderr",
     "output_type": "stream",
     "text": [
      "test_failure_1_params (__main__.GenerateReportTest) ... ok\n",
      "test_failure_3_params (__main__.GenerateReportTest) ... ok\n",
      "test_success (__main__.GenerateReportTest) ... ok\n",
      "\n",
      "----------------------------------------------------------------------\n",
      "Ran 3 tests in 0.005s\n",
      "\n",
      "OK\n"
     ]
    },
    {
     "data": {
      "text/plain": "<unittest.main.TestProgram at 0x12e703370>"
     },
     "execution_count": 7,
     "metadata": {},
     "output_type": "execute_result"
    }
   ],
   "source": [
    "import unittest\n",
    "from unittest import TestCase\n",
    "\n",
    "class GenerateReportTest(TestCase):\n",
    "    def setUp(self):\n",
    "        self.title = \"sample title\"\n",
    "        self.description = \"sample description\"\n",
    "        self.data = \"42\"\n",
    "\n",
    "    def test_success(self):\n",
    "        report = GenerateReport(self.title, self.description, self.data)()\n",
    "        self.assertTrue(self.title in report)\n",
    "        self.assertTrue(self.description in report)\n",
    "        self.assertTrue(self.data in report)\n",
    "\n",
    "    def test_failure_1_params(self):\n",
    "        with self.assertRaises(Exception) as cm:\n",
    "            GenerateReport(self.title, None, self.data)()\n",
    "\n",
    "        self.assertEqual(cm.exception.args[0], \"Parameters are missing\")\n",
    "\n",
    "    def test_failure_3_params(self):\n",
    "        with self.assertRaises(Exception) as cm:\n",
    "            GenerateReport(None, None, None)()\n",
    "\n",
    "        self.assertEqual(cm.exception.args[0], \"Parameters are missing\")\n",
    "\n",
    "\n",
    "\n",
    "unittest.main(argv=[''], verbosity=2, exit=False)"
   ],
   "metadata": {
    "collapsed": false,
    "pycharm": {
     "name": "#%%\n"
    }
   }
  },
  {
   "cell_type": "code",
   "execution_count": 16,
   "metadata": {
    "collapsed": true,
    "pycharm": {
     "name": "#%%\n"
    }
   },
   "outputs": [
    {
     "name": "stdout",
     "output_type": "stream",
     "text": [
      "\n",
      "OUTRO \n",
      "\n",
      "Very Important Report\n",
      "\n",
      "Sample description\n",
      "\n",
      "   col1  col2\n",
      "0     1     3\n",
      "1     2     4\n"
     ]
    }
   ],
   "source": [
    "import pandas as pd\n",
    "from jinja2.nativetypes import NativeEnvironment\n",
    "from typing import ClassVar\n",
    "from dataclasses import dataclass\n",
    "\n",
    "TEMPLATE = \"\"\"\n",
    "Report\n",
    "\n",
    "{{title}}\n",
    "\n",
    "{{description}}\n",
    "\n",
    "{{data}}\n",
    "\"\"\"\n",
    "\n",
    "TEMPLATE_OUTRO = \"\"\"\n",
    "OUTRO\n",
    "\n",
    "{{title}}\n",
    "\n",
    "{{description}}\n",
    "\n",
    "{{data}}\n",
    "\"\"\"\n",
    "\n",
    "title = \"Very Important Report\"\n",
    "description = \"Sample description\"\n",
    "df = pd.DataFrame({'col1': [1, 2], 'col2': [3, 4]})\n",
    "\n",
    "data = {\"title\": title, \"description\": description, \"data\": df.to_string()}\n",
    "\n",
    "@dataclass\n",
    "class GenerateReport:\n",
    "    data: dict\n",
    "    TEMPLATE_VARIABLES: ClassVar[set] = {\"title\", \"description\", \"data\"}\n",
    "    TEMPLATE_NAME: ClassVar[str] = TEMPLATE\n",
    "\n",
    "    def __post_init__(self):\n",
    "        self._validate_input()\n",
    "        self._get_template()\n",
    "\n",
    "    def _validate_input(self):\n",
    "        missing = set(self.data.keys()) ^ self.TEMPLATE_VARIABLES\n",
    "        if missing:\n",
    "            raise Exception(f\"The following keys are missing: {missing}\")\n",
    "\n",
    "    def _get_template(self):\n",
    "        env = NativeEnvironment()\n",
    "        self.template = env.from_string(self.TEMPLATE_NAME)\n",
    "\n",
    "    def __call__(self, *args, **kwargs):\n",
    "        return self.template.render(**self.data)\n",
    "\n",
    "@dataclass\n",
    "class GenRepo2(GenerateReport):\n",
    "    TEMPLATE_NAME: ClassVar[str] = TEMPLATE_OUTRO\n",
    "\n",
    "report = GenRepo2(data)()\n",
    "print(report)"
   ]
  },
  {
   "cell_type": "code",
   "execution_count": 15,
   "outputs": [
    {
     "name": "stderr",
     "output_type": "stream",
     "text": [
      "test_failure_1_params (__main__.GenerateReportTest) ... ok\n",
      "test_failure_3_params (__main__.GenerateReportTest) ... ok\n",
      "test_success (__main__.GenerateReportTest) ... ok\n",
      "\n",
      "----------------------------------------------------------------------\n",
      "Ran 3 tests in 0.006s\n",
      "\n",
      "OK\n"
     ]
    },
    {
     "data": {
      "text/plain": "<unittest.main.TestProgram at 0x12d9031c0>"
     },
     "execution_count": 15,
     "metadata": {},
     "output_type": "execute_result"
    }
   ],
   "source": [
    "import unittest\n",
    "from unittest import TestCase\n",
    "\n",
    "class GenerateReportTest(TestCase):\n",
    "    def setUp(self):\n",
    "        self.title = \"sample title\"\n",
    "        self.description = \"sample description\"\n",
    "        self.data = \"42\"\n",
    "\n",
    "        self.template_data = {\"title\": self.title,\n",
    "        \"description\": self.description,\n",
    "        \"data\": self.data}\n",
    "\n",
    "    def test_success(self):\n",
    "        report = GenerateReport(self.template_data)()\n",
    "        self.assertTrue(self.title in report)\n",
    "        self.assertTrue(self.description in report)\n",
    "        self.assertTrue(self.data in report)\n",
    "\n",
    "    def test_failure_1_params(self):\n",
    "        self.template_data.pop('description')\n",
    "        with self.assertRaises(Exception) as cm:\n",
    "            GenerateReport(self.template_data)()\n",
    "\n",
    "        self.assertEqual(cm.exception.args[0], \"The following keys are missing: {'description'}\")\n",
    "\n",
    "    def test_failure_3_params(self):\n",
    "        with self.assertRaises(Exception) as cm:\n",
    "            GenerateReport({})()\n",
    "\n",
    "        self.assertEqual(cm.exception.args[0], \"The following keys are missing: {'title', 'description', 'data'}\")\n",
    "\n",
    "\n",
    "\n",
    "unittest.main(argv=[''], verbosity=2, exit=False)"
   ],
   "metadata": {
    "collapsed": false,
    "pycharm": {
     "name": "#%%\n"
    }
   }
  },
  {
   "cell_type": "code",
   "execution_count": 13,
   "outputs": [
    {
     "data": {
      "text/plain": "True"
     },
     "execution_count": 13,
     "metadata": {},
     "output_type": "execute_result"
    }
   ],
   "source": [
    "def tt():\n",
    "    data = {'col1': [1, 2], 'col2': [3, 4]}\n",
    "    missing = set(data.keys()) ^ {\"col1\", \"col2\"}\n",
    "    if missing:\n",
    "        return False\n",
    "    return True\n",
    "\n",
    "tt()"
   ],
   "metadata": {
    "collapsed": false,
    "pycharm": {
     "name": "#%%\n"
    }
   }
  },
  {
   "cell_type": "code",
   "execution_count": 28,
   "outputs": [
    {
     "data": {
      "text/plain": "set()"
     },
     "execution_count": 28,
     "metadata": {},
     "output_type": "execute_result"
    }
   ],
   "source": [
    "from dataclasses import dataclass\n",
    "from jinja2 import PackageLoader, select_autoescape\n",
    "from jinja2.environment import Environment\n",
    "from jinja2 import meta\n",
    "\n",
    "import pandas as pd\n",
    "\n",
    "\n",
    "v = Environment(loader=PackageLoader(\"sample_django_project\"),\n",
    "    autoescape=select_autoescape())\n",
    "template = v.get_template(\"report.html\")\n",
    "\n",
    "\n",
    "# df = pd.DataFrame({'col1': [1, 2], 'col2': [3, 4]})\n",
    "# data = {\"latitude\": 2, \"longitude\": 43, \"columns\": df.to_string()}\n",
    "\n",
    "parsed_content = v.parse(template)\n",
    "meta.find_undeclared_variables(parsed_content)\n",
    "# from pprint import pprint\n",
    "# pprint(template.render(**data))"
   ],
   "metadata": {
    "collapsed": false,
    "pycharm": {
     "name": "#%%\n"
    }
   }
  }
 ],
 "metadata": {
  "kernelspec": {
   "display_name": "Python 3",
   "language": "python",
   "name": "python3"
  },
  "language_info": {
   "codemirror_mode": {
    "name": "ipython",
    "version": 2
   },
   "file_extension": ".py",
   "mimetype": "text/x-python",
   "name": "python",
   "nbconvert_exporter": "python",
   "pygments_lexer": "ipython2",
   "version": "2.7.6"
  }
 },
 "nbformat": 4,
 "nbformat_minor": 0
}